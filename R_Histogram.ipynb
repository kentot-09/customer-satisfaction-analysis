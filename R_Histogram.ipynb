{
 "cells": [
  {
   "cell_type": "code",
   "execution_count": 6,
   "id": "5ee47e08-3ae0-44c1-8be0-d8b2df55f9d8",
   "metadata": {},
   "outputs": [
    {
     "name": "stdout",
     "output_type": "stream",
     "text": [
      "[1] \"First 6 rows:\"\n"
     ]
    },
    {
     "data": {
      "text/html": [
       "<table class=\"dataframe\">\n",
       "<caption>A data.frame: 6 × 14</caption>\n",
       "<thead>\n",
       "\t<tr><th></th><th scope=col>Customer_ID</th><th scope=col>Age</th><th scope=col>Gender</th><th scope=col>Location</th><th scope=col>Num_Interactions</th><th scope=col>Feedback_Score</th><th scope=col>Products_Purchased</th><th scope=col>Products_Viewed</th><th scope=col>Time_Spent_on_Site</th><th scope=col>Satisfaction_Score</th><th scope=col>Retention_Status</th><th scope=col>Gender_Encoded</th><th scope=col>Location_Encoded</th><th scope=col>Retention_Status_Encoded</th></tr>\n",
       "\t<tr><th></th><th scope=col>&lt;int&gt;</th><th scope=col>&lt;int&gt;</th><th scope=col>&lt;chr&gt;</th><th scope=col>&lt;chr&gt;</th><th scope=col>&lt;int&gt;</th><th scope=col>&lt;int&gt;</th><th scope=col>&lt;int&gt;</th><th scope=col>&lt;int&gt;</th><th scope=col>&lt;dbl&gt;</th><th scope=col>&lt;int&gt;</th><th scope=col>&lt;chr&gt;</th><th scope=col>&lt;int&gt;</th><th scope=col>&lt;int&gt;</th><th scope=col>&lt;int&gt;</th></tr>\n",
       "</thead>\n",
       "<tbody>\n",
       "\t<tr><th scope=row>1</th><td>1</td><td>56</td><td>Male  </td><td>Urban   </td><td>11</td><td>4</td><td>18</td><td>38</td><td>18.319606</td><td> 7</td><td>Retained</td><td>1</td><td>2</td><td>1</td></tr>\n",
       "\t<tr><th scope=row>2</th><td>2</td><td>69</td><td>Male  </td><td>Suburban</td><td>10</td><td>3</td><td> 2</td><td>17</td><td> 9.015198</td><td> 6</td><td>Retained</td><td>1</td><td>1</td><td>1</td></tr>\n",
       "\t<tr><th scope=row>3</th><td>3</td><td>46</td><td>Male  </td><td>Urban   </td><td> 5</td><td>5</td><td>11</td><td>46</td><td>45.921572</td><td>10</td><td>Churned </td><td>1</td><td>2</td><td>0</td></tr>\n",
       "\t<tr><th scope=row>4</th><td>4</td><td>32</td><td>Female</td><td>Suburban</td><td> 5</td><td>1</td><td> 6</td><td>13</td><td>44.105053</td><td> 5</td><td>Churned </td><td>0</td><td>1</td><td>0</td></tr>\n",
       "\t<tr><th scope=row>5</th><td>5</td><td>60</td><td>Male  </td><td>Urban   </td><td>14</td><td>5</td><td> 8</td><td>46</td><td>17.897471</td><td> 1</td><td>Retained</td><td>1</td><td>2</td><td>1</td></tr>\n",
       "\t<tr><th scope=row>6</th><td>6</td><td>25</td><td>Male  </td><td>Rural   </td><td> 6</td><td>2</td><td> 4</td><td>35</td><td>46.215846</td><td> 3</td><td>Retained</td><td>1</td><td>0</td><td>1</td></tr>\n",
       "</tbody>\n",
       "</table>\n"
      ],
      "text/latex": [
       "A data.frame: 6 × 14\n",
       "\\begin{tabular}{r|llllllllllllll}\n",
       "  & Customer\\_ID & Age & Gender & Location & Num\\_Interactions & Feedback\\_Score & Products\\_Purchased & Products\\_Viewed & Time\\_Spent\\_on\\_Site & Satisfaction\\_Score & Retention\\_Status & Gender\\_Encoded & Location\\_Encoded & Retention\\_Status\\_Encoded\\\\\n",
       "  & <int> & <int> & <chr> & <chr> & <int> & <int> & <int> & <int> & <dbl> & <int> & <chr> & <int> & <int> & <int>\\\\\n",
       "\\hline\n",
       "\t1 & 1 & 56 & Male   & Urban    & 11 & 4 & 18 & 38 & 18.319606 &  7 & Retained & 1 & 2 & 1\\\\\n",
       "\t2 & 2 & 69 & Male   & Suburban & 10 & 3 &  2 & 17 &  9.015198 &  6 & Retained & 1 & 1 & 1\\\\\n",
       "\t3 & 3 & 46 & Male   & Urban    &  5 & 5 & 11 & 46 & 45.921572 & 10 & Churned  & 1 & 2 & 0\\\\\n",
       "\t4 & 4 & 32 & Female & Suburban &  5 & 1 &  6 & 13 & 44.105053 &  5 & Churned  & 0 & 1 & 0\\\\\n",
       "\t5 & 5 & 60 & Male   & Urban    & 14 & 5 &  8 & 46 & 17.897471 &  1 & Retained & 1 & 2 & 1\\\\\n",
       "\t6 & 6 & 25 & Male   & Rural    &  6 & 2 &  4 & 35 & 46.215846 &  3 & Retained & 1 & 0 & 1\\\\\n",
       "\\end{tabular}\n"
      ],
      "text/markdown": [
       "\n",
       "A data.frame: 6 × 14\n",
       "\n",
       "| <!--/--> | Customer_ID &lt;int&gt; | Age &lt;int&gt; | Gender &lt;chr&gt; | Location &lt;chr&gt; | Num_Interactions &lt;int&gt; | Feedback_Score &lt;int&gt; | Products_Purchased &lt;int&gt; | Products_Viewed &lt;int&gt; | Time_Spent_on_Site &lt;dbl&gt; | Satisfaction_Score &lt;int&gt; | Retention_Status &lt;chr&gt; | Gender_Encoded &lt;int&gt; | Location_Encoded &lt;int&gt; | Retention_Status_Encoded &lt;int&gt; |\n",
       "|---|---|---|---|---|---|---|---|---|---|---|---|---|---|---|\n",
       "| 1 | 1 | 56 | Male   | Urban    | 11 | 4 | 18 | 38 | 18.319606 |  7 | Retained | 1 | 2 | 1 |\n",
       "| 2 | 2 | 69 | Male   | Suburban | 10 | 3 |  2 | 17 |  9.015198 |  6 | Retained | 1 | 1 | 1 |\n",
       "| 3 | 3 | 46 | Male   | Urban    |  5 | 5 | 11 | 46 | 45.921572 | 10 | Churned  | 1 | 2 | 0 |\n",
       "| 4 | 4 | 32 | Female | Suburban |  5 | 1 |  6 | 13 | 44.105053 |  5 | Churned  | 0 | 1 | 0 |\n",
       "| 5 | 5 | 60 | Male   | Urban    | 14 | 5 |  8 | 46 | 17.897471 |  1 | Retained | 1 | 2 | 1 |\n",
       "| 6 | 6 | 25 | Male   | Rural    |  6 | 2 |  4 | 35 | 46.215846 |  3 | Retained | 1 | 0 | 1 |\n",
       "\n"
      ],
      "text/plain": [
       "  Customer_ID Age Gender Location Num_Interactions Feedback_Score\n",
       "1 1           56  Male   Urban    11               4             \n",
       "2 2           69  Male   Suburban 10               3             \n",
       "3 3           46  Male   Urban     5               5             \n",
       "4 4           32  Female Suburban  5               1             \n",
       "5 5           60  Male   Urban    14               5             \n",
       "6 6           25  Male   Rural     6               2             \n",
       "  Products_Purchased Products_Viewed Time_Spent_on_Site Satisfaction_Score\n",
       "1 18                 38              18.319606           7                \n",
       "2  2                 17               9.015198           6                \n",
       "3 11                 46              45.921572          10                \n",
       "4  6                 13              44.105053           5                \n",
       "5  8                 46              17.897471           1                \n",
       "6  4                 35              46.215846           3                \n",
       "  Retention_Status Gender_Encoded Location_Encoded Retention_Status_Encoded\n",
       "1 Retained         1              2                1                       \n",
       "2 Retained         1              1                1                       \n",
       "3 Churned          1              2                0                       \n",
       "4 Churned          0              1                0                       \n",
       "5 Retained         1              2                1                       \n",
       "6 Retained         1              0                1                       "
      ]
     },
     "metadata": {},
     "output_type": "display_data"
    },
    {
     "name": "stdout",
     "output_type": "stream",
     "text": [
      "[1] \"Number of rows: 1000\"\n"
     ]
    },
    {
     "data": {
      "image/png": "[encoded data removed]",
      "text/plain": [
       "Plot with title \"Distribution of Satisfaction Scores\""
      ]
     },
     "metadata": {
      "image/png": {
       "height": 420,
       "width": 420
      }
     },
     "output_type": "display_data"
    }
   ],
   "source": [
    "# Load the data\n",
    "data <- read.csv(\"customer_experience_data.csv\")\n",
    "\n",
    "# 1. Basic Data Verification\n",
    "print(\"First 6 rows:\")\n",
    "head(data)\n",
    "print(paste(\"Number of rows:\", nrow(data)))\n",
    "\n",
    "# 2. Column Check (Avoid errors if column names differ)\n",
    "if(\"Satisfaction_Score\" %in% names(data)) {\n",
    "  # 3. Basic Histogram (like your working version)\n",
    "  hist(data$Satisfaction_Score,\n",
    "       breaks = 10,\n",
    "       col = \"skyblue\",\n",
    "       border = \"black\",\n",
    "       main = \"Distribution of Satisfaction Scores\",\n",
    "       xlab = \"Satisfaction Score (1-10)\",\n",
    "       ylab = \"Number of Customers\")\n",
    "  \n",
    "  # 4. Add mean line\n",
    "  abline(v = mean(data$Satisfaction_Score, na.rm = TRUE), \n",
    "         col = \"red\", \n",
    "         lwd = 2, \n",
    "         lty = 2)\n",
    "  legend(\"topright\", \n",
    "         legend = paste(\"Mean:\", round(mean(data$Satisfaction_Score, na.rm = TRUE), 2)),\n",
    "         col = \"red\", \n",
    "         lty = 2)\n",
    "  \n",
    "} else {\n",
    "  print(\"Error: 'Satisfaction_Score' column not found. Available columns:\")\n",
    "  print(names(data))\n",
    "}"
   ]
  },
  {
   "cell_type": "code",
   "execution_count": null,
   "id": "ed0b8d98-de89-4cc8-af1f-74e870f281f9",
   "metadata": {},
   "outputs": [],
   "source": []
  }
 ],
 "metadata": {
  "kernelspec": {
   "display_name": "R",
   "language": "R",
   "name": "ir"
  },
  "language_info": {
   "codemirror_mode": "r",
   "file_extension": ".r",
   "mimetype": "text/x-r-source",
   "name": "R",
   "pygments_lexer": "r",
   "version": "4.5.0"
  }
 },
 "nbformat": 4,
 "nbformat_minor": 5
}
